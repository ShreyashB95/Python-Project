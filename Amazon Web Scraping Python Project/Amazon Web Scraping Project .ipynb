{
 "cells": [
  {
   "cell_type": "code",
   "execution_count": 1,
   "id": "e106dced",
   "metadata": {},
   "outputs": [],
   "source": [
    "# Importing Libraries \n",
    "\n",
    "from bs4 import BeautifulSoup\n",
    "import requests\n",
    "import smtplib\n",
    "import time\n",
    "import datetime"
   ]
  },
  {
   "cell_type": "code",
   "execution_count": 2,
   "id": "44af09f9",
   "metadata": {
    "scrolled": false
   },
   "outputs": [
    {
     "name": "stdout",
     "output_type": "stream",
     "text": [
      "\n",
      "              Sony PS5 Console - Call of Duty Modern Warfare III Bundle\n",
      "             \n",
      "\n",
      "                                55,390\n",
      "                                \n",
      "                                 .\n",
      "                                \n",
      "\n"
     ]
    }
   ],
   "source": [
    "#Connecting to the website \n",
    "\n",
    "URL = 'https://www.amazon.in/Sony-PS5-Console-Modern-Warfare/dp/B0CMQPPMB1/ref=sr_1_5?crid=3CKZ70LY82R69&dib=eyJ2IjoiMSJ9.zz7c3q8rNFP9BfSDStk3B9-cQDJdwAp96iS_3OxXwMs83S_t2JYLisGypr3EybXZrQ1gUChEp5vDsn3ntLt3PNOIGonrfPmZQb1iAoWNngNMH5aPBZ1H_ISp4dGwu0W8gE5EhX_6t-DPo1oJTdYbd_z-tspZeZjK0FCwKyErAGsUU6VE-H8fPseOY_RoUT-csspl9zDEoxIyS0aTfK54FQOjlUpKaKcapzNMvnhXw1Y.kZc1wRge63DCpg5Nvyk9otoW0jl1yJdSjKRh8g3ydYI&dib_tag=se&keywords=playstation+5&qid=1705779536&sprefix=pla%2Caps%2C179&sr=8-5'\n",
    "\n",
    "headers = {\"User-Agent\": \"Mozilla/5.0 (Windows NT 10.0; Win64; x64) AppleWebKit/537.36 (KHTML, like Gecko) Chrome/120.0.0.0 Safari/537.36\"}\n",
    "\n",
    "page = requests.get(URL, headers=headers)\n",
    "\n",
    "soup1 = BeautifulSoup(page.content, \"html.parser\")\n",
    "\n",
    "soup2 = BeautifulSoup(soup1.prettify(), \"html.parser\")\n",
    "\n",
    "title = soup2.find('span',{'id': 'productTitle'}).get_text()\n",
    "\n",
    "price = soup2.find('span', {'class':'a-price-whole'}).get_text()\n",
    "\n",
    "print(title)\n",
    "print(price)\n"
   ]
  },
  {
   "cell_type": "code",
   "execution_count": 5,
   "id": "b1171342",
   "metadata": {},
   "outputs": [
    {
     "name": "stdout",
     "output_type": "stream",
     "text": [
      "2024-01-22\n"
     ]
    }
   ],
   "source": [
    "import datetime\n",
    "\n",
    "today = datetime.date.today()\n",
    "\n",
    "print(today)"
   ]
  },
  {
   "cell_type": "code",
   "execution_count": 6,
   "id": "e7e3ddfc",
   "metadata": {},
   "outputs": [],
   "source": [
    "#only run once or data gets deleted \n",
    "import csv\n",
    "\n",
    "header = ['Title','Price','Date']\n",
    "\n",
    "data = [title,price,today]\n",
    "\n",
    "with open('AmazonWebScrappedDataset.csv','w',newline ='',encoding = 'UTF8' ) as f:\n",
    "    writer = csv.writer(f)\n",
    "    writer.writerow(header)\n",
    "    writer.writerow(data)"
   ]
  },
  {
   "cell_type": "code",
   "execution_count": 18,
   "id": "94f997ac",
   "metadata": {},
   "outputs": [
    {
     "name": "stdout",
     "output_type": "stream",
     "text": [
      "                                               Title  \\\n",
      "0  \\n              Sony PS5 Console - Call of Dut...   \n",
      "1  \\n              Sony PS5 Console - Call of Dut...   \n",
      "2  \\n              Sony PS5 Console - Call of Dut...   \n",
      "3  \\n              Sony PS5 Console - Call of Dut...   \n",
      "4  \\n              Sony PS5 Console - Call of Dut...   \n",
      "5  \\n              Sony PS5 Console - Call of Dut...   \n",
      "6  \\n              Sony PS5 Console - Call of Dut...   \n",
      "7  \\n              Sony PS5 Console - Call of Dut...   \n",
      "8  \\n              Sony PS5 Console - Call of Dut...   \n",
      "\n",
      "                                               Price        Date  \n",
      "0  \\n                                55,390\\n    ...  2024-01-22  \n",
      "1  \\n                                55,390\\n    ...  2024-01-22  \n",
      "2  \\n                                55,390\\n    ...  2024-01-22  \n",
      "3  \\n                                55,390\\n    ...  2024-01-22  \n",
      "4  \\n                                55,390\\n    ...  2024-01-22  \n",
      "5  \\n                                55,390\\n    ...  2024-01-22  \n",
      "6  \\n                                55,390\\n    ...  2024-01-22  \n",
      "7  \\n                                55,390\\n    ...  2024-01-22  \n",
      "8  \\n                                55,390\\n    ...  2024-01-22  \n"
     ]
    }
   ],
   "source": [
    "#data view for the csv file data\n",
    "import pandas as pd\n",
    "\n",
    "df = pd.read_csv(r'AmazonWebScrappedDataset.csv')\n",
    "\n",
    "print (df)"
   ]
  },
  {
   "cell_type": "code",
   "execution_count": 11,
   "id": "cff94529",
   "metadata": {},
   "outputs": [],
   "source": [
    "#now appending the data to the csv\n",
    "\n",
    "with open('AmazonWebScrappedDataset.csv','a+', newline ='',encoding = 'UTF8' ) as f:\n",
    "    writer = csv.writer(f)\n",
    "    writer.writerow(data)"
   ]
  },
  {
   "cell_type": "code",
   "execution_count": 15,
   "id": "d1339c1a",
   "metadata": {},
   "outputs": [],
   "source": [
    "\n",
    "def check_price():\n",
    "    URL = 'https://www.amazon.in/Sony-PS5-Console-Modern-Warfare/dp/B0CMQPPMB1/ref=sr_1_5?crid=3CKZ70LY82R69&dib=eyJ2IjoiMSJ9.zz7c3q8rNFP9BfSDStk3B9-cQDJdwAp96iS_3OxXwMs83S_t2JYLisGypr3EybXZrQ1gUChEp5vDsn3ntLt3PNOIGonrfPmZQb1iAoWNngNMH5aPBZ1H_ISp4dGwu0W8gE5EhX_6t-DPo1oJTdYbd_z-tspZeZjK0FCwKyErAGsUU6VE-H8fPseOY_RoUT-csspl9zDEoxIyS0aTfK54FQOjlUpKaKcapzNMvnhXw1Y.kZc1wRge63DCpg5Nvyk9otoW0jl1yJdSjKRh8g3ydYI&dib_tag=se&keywords=playstation+5&qid=1705779536&sprefix=pla%2Caps%2C179&sr=8-5'\n",
    "\n",
    "    headers = {\"User-Agent\": \"Mozilla/5.0 (Windows NT 10.0; Win64; x64) AppleWebKit/537.36 (KHTML, like Gecko) Chrome/120.0.0.0 Safari/537.36\"}\n",
    "\n",
    "    page = requests.get(URL, headers=headers)\n",
    "\n",
    "    soup1 = BeautifulSoup(page.content, \"html.parser\")\n",
    "\n",
    "    soup2 = BeautifulSoup(soup1.prettify(), \"html.parser\")\n",
    "\n",
    "    title = soup2.find('span',{'id': 'productTitle'}).get_text()\n",
    "\n",
    "    price = soup2.find('span', {'class':'a-price-whole'}).get_text()\n",
    "\n",
    "    import datetime\n",
    "\n",
    "    today = datetime.date.today()\n",
    "\n",
    "    import csv\n",
    "\n",
    "    header = ['Title','Price','Date']\n",
    "\n",
    "    data = [title,price,today]\n",
    "\n",
    "    with open('AmazonWebScrappedDataset.csv','a+', newline ='',encoding = 'UTF8' ) as f:\n",
    "    \n",
    "     writer = csv.writer(f)\n",
    "    \n",
    "     writer.writerow(data)\n",
    "        \n",
    "    if(price < 55390):\n",
    "        send_mail()\n"
   ]
  },
  {
   "cell_type": "code",
   "execution_count": 16,
   "id": "96242d2f",
   "metadata": {
    "scrolled": true
   },
   "outputs": [
    {
     "ename": "KeyboardInterrupt",
     "evalue": "",
     "output_type": "error",
     "traceback": [
      "\u001b[1;31m---------------------------------------------------------------------------\u001b[0m",
      "\u001b[1;31mKeyboardInterrupt\u001b[0m                         Traceback (most recent call last)",
      "Cell \u001b[1;32mIn[16], line 3\u001b[0m\n\u001b[0;32m      1\u001b[0m \u001b[38;5;28;01mwhile\u001b[39;00m (\u001b[38;5;28;01mTrue\u001b[39;00m):\n\u001b[0;32m      2\u001b[0m     check_price()\n\u001b[1;32m----> 3\u001b[0m     time\u001b[38;5;241m.\u001b[39msleep(\u001b[38;5;241m5\u001b[39m)\n",
      "\u001b[1;31mKeyboardInterrupt\u001b[0m: "
     ]
    }
   ],
   "source": [
    "while (True):\n",
    "    check_price()\n",
    "    time.sleep(5)"
   ]
  },
  {
   "cell_type": "code",
   "execution_count": 17,
   "id": "df0fbc66",
   "metadata": {},
   "outputs": [
    {
     "name": "stdout",
     "output_type": "stream",
     "text": [
      "                                               Title  \\\n",
      "0  \\n              Sony PS5 Console - Call of Dut...   \n",
      "1  \\n              Sony PS5 Console - Call of Dut...   \n",
      "2  \\n              Sony PS5 Console - Call of Dut...   \n",
      "3  \\n              Sony PS5 Console - Call of Dut...   \n",
      "4  \\n              Sony PS5 Console - Call of Dut...   \n",
      "5  \\n              Sony PS5 Console - Call of Dut...   \n",
      "6  \\n              Sony PS5 Console - Call of Dut...   \n",
      "7  \\n              Sony PS5 Console - Call of Dut...   \n",
      "8  \\n              Sony PS5 Console - Call of Dut...   \n",
      "\n",
      "                                               Price        Date  \n",
      "0  \\n                                55,390\\n    ...  2024-01-22  \n",
      "1  \\n                                55,390\\n    ...  2024-01-22  \n",
      "2  \\n                                55,390\\n    ...  2024-01-22  \n",
      "3  \\n                                55,390\\n    ...  2024-01-22  \n",
      "4  \\n                                55,390\\n    ...  2024-01-22  \n",
      "5  \\n                                55,390\\n    ...  2024-01-22  \n",
      "6  \\n                                55,390\\n    ...  2024-01-22  \n",
      "7  \\n                                55,390\\n    ...  2024-01-22  \n",
      "8  \\n                                55,390\\n    ...  2024-01-22  \n"
     ]
    }
   ],
   "source": [
    "import pandas as pd\n",
    "\n",
    "df = pd.read_csv(r'AmazonWebScrappedDataset.csv')\n",
    "\n",
    "print (df)"
   ]
  },
  {
   "cell_type": "code",
   "execution_count": null,
   "id": "a93ca604",
   "metadata": {},
   "outputs": [],
   "source": []
  }
 ],
 "metadata": {
  "kernelspec": {
   "display_name": "Python 3 (ipykernel)",
   "language": "python",
   "name": "python3"
  },
  "language_info": {
   "codemirror_mode": {
    "name": "ipython",
    "version": 3
   },
   "file_extension": ".py",
   "mimetype": "text/x-python",
   "name": "python",
   "nbconvert_exporter": "python",
   "pygments_lexer": "ipython3",
   "version": "3.11.5"
  }
 },
 "nbformat": 4,
 "nbformat_minor": 5
}
